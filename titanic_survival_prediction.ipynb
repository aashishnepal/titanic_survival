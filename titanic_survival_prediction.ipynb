{
 "cells": [
  {
   "cell_type": "markdown",
   "metadata": {},
   "source": [
    "Import Required libraries"
   ]
  },
  {
   "cell_type": "code",
   "execution_count": 2,
   "metadata": {},
   "outputs": [],
   "source": [
    "import pandas as pd\n",
    "from sklearn.model_selection import train_test_split\n",
    "from sklearn.preprocessing import StandardScaler, OneHotEncoder\n",
    "from sklearn.impute import SimpleImputer"
   ]
  },
  {
   "cell_type": "markdown",
   "metadata": {},
   "source": [
    "Data Preprocessing"
   ]
  },
  {
   "cell_type": "code",
   "execution_count": null,
   "metadata": {},
   "outputs": [],
   "source": [
    "\n",
    "# Load data\n",
    "url = \"https://raw.githubusercontent.com/datasciencedojo/datasets/master/titanic.csv\"\n",
    "data = pd.read_csv(url)\n",
    "\n",
    "# Preprocessing\n",
    "def preprocess_data(df):\n",
    "    # Drop unnecessary columns\n",
    "    df = df.drop(['PassengerId', 'Name', 'Ticket', 'Cabin'], axis=1)\n",
    "    \n",
    "    # Handle missing values\n",
    "    df['Age'] = SimpleImputer(strategy='median').fit_transform(df[['Age']])\n",
    "    \n",
    "    # Fix for Embarked column\n",
    "    embarked_imputer = SimpleImputer(strategy='most_frequent')\n",
    "    df['Embarked'] = embarked_imputer.fit_transform(df[['Embarked']]).ravel()  # <- Add .ravel()\n",
    "    \n",
    "    # Convert categorical variables\n",
    "    df['Sex'] = df['Sex'].map({'male': 0, 'female': 1})\n",
    "    df = pd.get_dummies(df, columns=['Embarked'], prefix='Embarked')\n",
    "    \n",
    "    # Convert Fare to float and fill missing\n",
    "    df['Fare'] = df['Fare'].fillna(df['Fare'].median())\n",
    "    \n",
    "    return df\n",
    "\n",
    "processed_data = preprocess_data(data)\n",
    "X = processed_data.drop('Survived', axis=1)\n",
    "y = processed_data['Survived']\n",
    "\n",
    "# Split data\n",
    "X_train, X_test, y_train, y_test = train_test_split(X, y, test_size=0.2, random_state=42)\n",
    "\n",
    "# Scale features (for models that require scaling)\n",
    "scaler = StandardScaler()\n",
    "X_train_scaled = scaler.fit_transform(X_train)\n",
    "X_test_scaled = scaler.transform(X_test)"
   ]
  },
  {
   "cell_type": "markdown",
   "metadata": {},
   "source": [
    "Logistic Regression"
   ]
  },
  {
   "cell_type": "code",
   "execution_count": 3,
   "metadata": {},
   "outputs": [
    {
     "name": "stdout",
     "output_type": "stream",
     "text": [
      "Logistic Regression:\n",
      "              precision    recall  f1-score   support\n",
      "\n",
      "           0       0.83      0.86      0.84       105\n",
      "           1       0.79      0.74      0.76        74\n",
      "\n",
      "    accuracy                           0.81       179\n",
      "   macro avg       0.81      0.80      0.80       179\n",
      "weighted avg       0.81      0.81      0.81       179\n",
      "\n"
     ]
    }
   ],
   "source": [
    "from sklearn.linear_model import LogisticRegression\n",
    "from sklearn.metrics import classification_report\n",
    "\n",
    "lr = LogisticRegression(max_iter=1000)\n",
    "lr.fit(X_train_scaled, y_train)\n",
    "y_pred_lr = lr.predict(X_test_scaled)\n",
    "\n",
    "print(\"Logistic Regression:\")\n",
    "print(classification_report(y_test, y_pred_lr))"
   ]
  },
  {
   "cell_type": "markdown",
   "metadata": {},
   "source": [
    "Random Forest"
   ]
  },
  {
   "cell_type": "code",
   "execution_count": 4,
   "metadata": {},
   "outputs": [
    {
     "name": "stdout",
     "output_type": "stream",
     "text": [
      "Random Forest:\n",
      "              precision    recall  f1-score   support\n",
      "\n",
      "           0       0.84      0.84      0.84       105\n",
      "           1       0.77      0.77      0.77        74\n",
      "\n",
      "    accuracy                           0.81       179\n",
      "   macro avg       0.80      0.80      0.80       179\n",
      "weighted avg       0.81      0.81      0.81       179\n",
      "\n"
     ]
    }
   ],
   "source": [
    "from sklearn.ensemble import RandomForestClassifier\n",
    "\n",
    "rf = RandomForestClassifier(random_state=42)\n",
    "rf.fit(X_train, y_train)  # No scaling needed\n",
    "y_pred_rf = rf.predict(X_test)\n",
    "\n",
    "print(\"Random Forest:\")\n",
    "print(classification_report(y_test, y_pred_rf))"
   ]
  },
  {
   "cell_type": "markdown",
   "metadata": {},
   "source": [
    "Neural Network"
   ]
  },
  {
   "cell_type": "code",
   "execution_count": 5,
   "metadata": {},
   "outputs": [
    {
     "name": "stderr",
     "output_type": "stream",
     "text": [
      "2025-02-02 15:41:18.040880: W tensorflow/core/platform/profile_utils/cpu_utils.cc:128] Failed to get CPU frequency: 0 Hz\n"
     ]
    },
    {
     "name": "stdout",
     "output_type": "stream",
     "text": [
      "6/6 [==============================] - 0s 361us/step\n",
      "Neural Network:\n",
      "              precision    recall  f1-score   support\n",
      "\n",
      "           0       0.82      0.90      0.86       105\n",
      "           1       0.83      0.73      0.78        74\n",
      "\n",
      "    accuracy                           0.83       179\n",
      "   macro avg       0.83      0.81      0.82       179\n",
      "weighted avg       0.83      0.83      0.82       179\n",
      "\n"
     ]
    }
   ],
   "source": [
    "import tensorflow as tf\n",
    "from tensorflow.keras import layers, models\n",
    "\n",
    "# Build model\n",
    "model = models.Sequential([\n",
    "    layers.Dense(64, activation='relu', input_shape=(X_train_scaled.shape[1],)),\n",
    "    layers.Dropout(0.2),\n",
    "    layers.Dense(32, activation='relu'),\n",
    "    layers.Dense(1, activation='sigmoid')\n",
    "])\n",
    "\n",
    "model.compile(optimizer='adam',\n",
    "              loss='binary_crossentropy',\n",
    "              metrics=['accuracy'])\n",
    "\n",
    "# Train model\n",
    "history = model.fit(X_train_scaled, y_train,\n",
    "                    epochs=100,\n",
    "                    batch_size=32,\n",
    "                    validation_split=0.2,\n",
    "                    verbose=0)\n",
    "\n",
    "# Evaluate\n",
    "y_pred_nn = (model.predict(X_test_scaled) > 0.5).astype(int)\n",
    "print(\"Neural Network:\")\n",
    "print(classification_report(y_test, y_pred_nn))"
   ]
  },
  {
   "cell_type": "markdown",
   "metadata": {},
   "source": [
    "### **Summary of Performance Metrics for Different Models**\n",
    "\n",
    "| Metric       | Logistic Regression | Random Forest | Neural Network |\n",
    "|-------------|---------------------|--------------|---------------|\n",
    "| **Accuracy** | 0.81                | 0.81         | **0.83**      |\n",
    "| **Precision (Class 0)** | 0.83 | **0.84** | 0.82 |\n",
    "| **Precision (Class 1)** | 0.79 | 0.77 | **0.83** |\n",
    "| **Recall (Class 0)** | 0.86 | 0.84 | **0.90** |\n",
    "| **Recall (Class 1)** | 0.74 | 0.77 | **0.73** |\n",
    "| **F1-score (Class 0)** | 0.84 | 0.84 | **0.86** |\n",
    "| **F1-score (Class 1)** | 0.76 | 0.77 | **0.78** |\n",
    "| **Macro Average (F1-score)** | 0.80 | 0.80 | **0.82** |\n",
    "| **Weighted Average (F1-score)** | 0.81 | 0.81 | **0.82** |\n",
    "\n",
    "### **Key Observations:**\n",
    "1. **Neural Network** achieved the highest accuracy (**0.83**) compared to Logistic Regression and Random Forest (both **0.81**).\n",
    "2. **Neural Network** also has the best F1-score for Class 0 (**0.86**) and Class 1 (**0.78**), making it more balanced.\n",
    "3. **Random Forest and Logistic Regression** performed similarly, but Random Forest had a slight advantage in precision for Class 0 (**0.84** vs. 0.83).\n",
    "4. **Neural Network excels in recall for Class 0** (**0.90**), meaning it identifies more positive cases but sacrifices recall for Class 1.\n",
    "\n",
    "### **Conclusion:**\n",
    "- If **overall accuracy and balanced performance** are the priorities, **Neural Network** is the best choice.\n",
    "- If **precision for Class 0** (negative class) is crucial, **Random Forest** performs slightly better.\n",
    "- If **recall for Class 1** (positive class) is more important, **Logistic Regression or Random Forest** might be preferred.\n"
   ]
  }
 ],
 "metadata": {
  "kernelspec": {
   "display_name": "base",
   "language": "python",
   "name": "python3"
  },
  "language_info": {
   "codemirror_mode": {
    "name": "ipython",
    "version": 3
   },
   "file_extension": ".py",
   "mimetype": "text/x-python",
   "name": "python",
   "nbconvert_exporter": "python",
   "pygments_lexer": "ipython3",
   "version": "3.9.18"
  }
 },
 "nbformat": 4,
 "nbformat_minor": 2
}
